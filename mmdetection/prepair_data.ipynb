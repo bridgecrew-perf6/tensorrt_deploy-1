{
 "cells": [
  {
   "cell_type": "code",
   "execution_count": null,
   "id": "f4ca6902-cd52-48b7-bc3c-0be5a8b52aa7",
   "metadata": {},
   "outputs": [],
   "source": [
    "python tools/train.py configs/insurance/config_htc_restnext101_data2305.py\n"
   ]
  }
 ],
 "metadata": {
  "kernelspec": {
   "display_name": "Python 3 (ipykernel)",
   "language": "python",
   "name": "python3"
  },
  "language_info": {
   "codemirror_mode": {
    "name": "ipython",
    "version": 3
   },
   "file_extension": ".py",
   "mimetype": "text/x-python",
   "name": "python",
   "nbconvert_exporter": "python",
   "pygments_lexer": "ipython3",
   "version": "3.8.13"
  }
 },
 "nbformat": 4,
 "nbformat_minor": 5
}
